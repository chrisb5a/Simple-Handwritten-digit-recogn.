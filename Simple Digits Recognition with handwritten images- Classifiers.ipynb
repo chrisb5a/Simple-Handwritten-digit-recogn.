{
 "cells": [
  {
   "cell_type": "code",
   "execution_count": 1,
   "metadata": {},
   "outputs": [
    {
     "name": "stdout",
     "output_type": "stream",
     "text": [
      "[3]\n"
     ]
    }
   ],
   "source": [
    "import matplotlib.pyplot as plt\n",
    "from sklearn import datasets\n",
    "from sklearn.svm import SVC\n",
    "from scipy import misc\n",
    "import numpy as np\n",
    "\n",
    "# We load the dataset from sklearn as digits. The images\n",
    "# named pictures and the FlatData are the raw data with which the classifier\n",
    "#SVC will work\n",
    "\n",
    "digits = datasets.load_digits()\n",
    "FlatData = digits.data\n",
    "Pictures = digits.target\n",
    "\n",
    "#We choose the parameter of the SVC method for the soft margin C = 100\n",
    "#and free parameter to be gamma = .001\n",
    "#We make a correspondence between Pictures and FlatData with SVC by fit\n",
    "\n",
    "clf = SVC(gamma = .001, C = 100)\n",
    "clf.fit(FlatData, Pictures)\n",
    "\n",
    "#x,y = digits.data[:-1], digits.target[:-1]\n",
    "#clf.fit(x,y)\n",
    "\n",
    "#We read a saved image in format 56*56 pixel that we created (black \n",
    "#background. The image has preferably a multiple of 8 size. \n",
    "#Here 56 is a multiple of 8, so good.\n",
    "\n",
    "img = misc.imread('3e.png') \n",
    "#reads the jpg or png image created and saved\n",
    "\n",
    "img = misc.imresize(img, (8,8)) \n",
    "# We can see with Shape that it is (56,56,3) reshaped to (8,8,3)\n",
    "\n",
    "img = img.astype(digits.images.dtype)\n",
    "#Makes type of the digits for training and the read image the same.\n",
    "\n",
    "img = misc.bytescale(img, high = 16, low = 0)\n",
    "#The bytes for the colors are between 0 for black and 255 pure black.\n",
    "#We rescale this from 0 to 16.\n",
    "\n",
    "#At any time we can print(img) and print(FlatData[1]) for example\n",
    "#to see what the image data looks like\n",
    "#We create image_test list to append the value of the img data that will\n",
    "#make image_test an \"array\"-like list with 8*8 = 64 entries.\n",
    "\n",
    "image_test =[]\n",
    "\n",
    "#We \"contract\" the pixels by averaging (sum(pixels)/3)\n",
    "\n",
    "for eachRow in img:\n",
    "    for eachPixel in eachRow:\n",
    "        image_test.append((sum(eachPixel))/3.0)\n",
    "\n",
    "#Note Snapshots create data of (8,8,4) shape so we can do maybe: \n",
    "#image_test.append((sum(eachPixel)-16)/4.0), Bad!\n",
    "\n",
    "#x_testArr = np.array([image_test])\n",
    "#x_testArr.shape      \n",
    "\n",
    "#after we have obtained our list of 64 entries we ask SVC to predict the\n",
    "#digit value of the label (jpg or png)\n",
    "\n",
    "print(clf.predict([image_test]))\n",
    "#plt.imshow(digits.images[-275], cmap=plt.cm.gray_r, interpolation = 'nearest')\n",
    "#plt.show()\n",
    "\n",
    "\n"
   ]
  },
  {
   "cell_type": "code",
   "execution_count": 2,
   "metadata": {},
   "outputs": [
    {
     "name": "stdout",
     "output_type": "stream",
     "text": [
      "[3]\n"
     ]
    }
   ],
   "source": [
    "import matplotlib.pyplot as plt\n",
    "from sklearn import datasets\n",
    "from sklearn.svm import SVC\n",
    "from scipy import misc\n",
    "from sklearn.model_selection import train_test_split\n",
    "from sklearn.linear_model import LogisticRegression\n",
    "import numpy as np\n",
    "\n",
    "#split data and use 25% for training.\n",
    "x_train, x_test, y_train, y_test = train_test_split(digits.data, digits.target,\n",
    "                                                   test_size = 0.25, random_state = 0)\n",
    "#trains with LogisticRegression() method\n",
    "logReg = LogisticRegression()\n",
    "logReg.fit(x_train, y_train)\n",
    "\n",
    "#tells how succesful the method is\n",
    "score = logReg.score(x_test, y_test)\n",
    "\n",
    "img = misc.imread('3e.png')\n",
    "img = misc.imresize(img, (8,8))\n",
    "img = img.astype(digits.images.dtype)\n",
    "img = misc.bytescale(img, high = 16, low = 0)\n",
    "#print(img)\n",
    "\n",
    "\n",
    "image_test =[]\n",
    "\n",
    "#We \"contract\" the pixels by averaging (sum(pixels)/3)\n",
    "\n",
    "for eachRow in img:\n",
    "    for eachPixel in eachRow:\n",
    "        image_test.append((sum(eachPixel))/3.0)\n",
    "\n",
    "#x_testArr = np.array([image_test])\n",
    "#x_testArr.shape \n",
    "\n",
    "print(logReg.predict([image_test]))\n"
   ]
  }
 ],
 "metadata": {
  "kernelspec": {
   "display_name": "Python 3",
   "language": "python",
   "name": "python3"
  },
  "language_info": {
   "codemirror_mode": {
    "name": "ipython",
    "version": 3
   },
   "file_extension": ".py",
   "mimetype": "text/x-python",
   "name": "python",
   "nbconvert_exporter": "python",
   "pygments_lexer": "ipython3",
   "version": "3.6.4"
  }
 },
 "nbformat": 4,
 "nbformat_minor": 2
}
